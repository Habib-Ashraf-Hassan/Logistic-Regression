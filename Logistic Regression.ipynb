{
 "cells": [
  {
   "cell_type": "markdown",
   "id": "2e80445c",
   "metadata": {},
   "source": [
    "# Classification\n",
    "Use this and not **Regression** depending on that type of the target value\n",
    "\n",
    "One of the types in **Classification** is **Logistic Regression**\n",
    "\n",
    "## Logistic Regression\n",
    "We use Linear regression when target value is either continuous or discrete but in Logistic is when target value is categorical\n",
    "\n",
    "Follows the principle of _probability_ to convert the target value into values within range of _0 to 1_ using the _Sigmoid function_\n",
    "\n",
    "**Sigmoid function** = _y = 1 / ( 1+e^-x)_\n",
    "\n",
    "where:\n",
    "- y = Target\n",
    "- x = Feature\n",
    "- e = 2.718\n",
    "\n",
    "If values falls in range 0.5 < value <= 1...this is another class(1) and if it falls in the range 0 <= value < 0.5 its another class(0)...we end up having 2 classes thus binary classes\n",
    "\n",
    "If it falls in exactly at 0.5 which is rare case , that is undefined class"
   ]
  },
  {
   "cell_type": "markdown",
   "id": "168ecc7b",
   "metadata": {},
   "source": [
    "### Feature engineering\n",
    "**Encoders** converts categorical data into numerical form\n",
    "\n",
    "#### Types of categorical data\n",
    "- Nominal: not care of the order _eg: gender_ and uses nominal encoding\n",
    "- Ordinal: cares of the order/rank _eg:Education level: diploma, degree, masters, Phd _ and uses ordinal encoding\n",
    "\n",
    "#### Types of encoders\n",
    "##### Norminal Encoding\n",
    "- Label encoder\n",
    "- target guided"
   ]
  }
 ],
 "metadata": {
  "kernelspec": {
   "display_name": "Python 3 (ipykernel)",
   "language": "python",
   "name": "python3"
  },
  "language_info": {
   "codemirror_mode": {
    "name": "ipython",
    "version": 3
   },
   "file_extension": ".py",
   "mimetype": "text/x-python",
   "name": "python",
   "nbconvert_exporter": "python",
   "pygments_lexer": "ipython3",
   "version": "3.9.13"
  }
 },
 "nbformat": 4,
 "nbformat_minor": 5
}
